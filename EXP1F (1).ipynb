{
  "nbformat": 4,
  "nbformat_minor": 0,
  "metadata": {
    "colab": {
      "provenance": []
    },
    "kernelspec": {
      "name": "python3",
      "display_name": "Python 3"
    },
    "language_info": {
      "name": "python"
    }
  },
  "cells": [
    {
      "cell_type": "code",
      "execution_count": null,
      "metadata": {
        "id": "kaRwiwGUZU8Z"
      },
      "outputs": [],
      "source": [
        "# Import the necessary Libraries\n",
        "import cv2\n",
        "import numpy as np\n",
        "import matplotlib.pyplot as plt\n",
        "\n",
        "# Load the image\n",
        "image = cv2.imread('Ganesh.jpg')\n",
        "\n",
        "# Convert BGR image to RGB\n",
        "image_rgb = cv2.cvtColor(image, cv2.COLOR_BGR2RGB)\n",
        "\n",
        "# Split the image into channels\n",
        "b, g, r = cv2.split(image_rgb)\n",
        "\n",
        "# Normalization parameter\n",
        "min_value = 0\n",
        "max_value = 1\n",
        "norm_type = cv2.NORM_MINMAX\n",
        "\n",
        "# Normalize each channel\n",
        "b_normalized = cv2.normalize(b.astype('float'), None, min_value, max_value, norm_type)\n",
        "g_normalized = cv2.normalize(g.astype('float'), None, min_value, max_value, norm_type)\n",
        "r_normalized = cv2.normalize(r.astype('float'), None, min_value, max_value, norm_type)\n",
        "\n",
        "# Merge the normalized channels back into an image\n",
        "normalized_image = cv2.merge((b_normalized, g_normalized, r_normalized))\n",
        "# Normalized image\n",
        "print(normalized_image[:,:,0])\n",
        "\n",
        "plt.imshow(normalized_image)\n",
        "plt.xticks([])\n",
        "plt.yticks([])\n",
        "plt.title('Normalized Image')\n",
        "plt.show()\n"
      ]
    }
  ]
}